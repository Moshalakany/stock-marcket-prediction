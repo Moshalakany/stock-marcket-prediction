{
 "cells": [
  {
   "cell_type": "code",
   "execution_count": 1,
   "metadata": {},
   "outputs": [
    {
     "name": "stderr",
     "output_type": "stream",
     "text": [
      "C:\\Users\\ahmed\\AppData\\Local\\Packages\\PythonSoftwareFoundation.Python.3.11_qbz5n2kfra8p0\\LocalCache\\local-packages\\Python311\\site-packages\\tqdm\\auto.py:21: TqdmWarning: IProgress not found. Please update jupyter and ipywidgets. See https://ipywidgets.readthedocs.io/en/stable/user_install.html\n",
      "  from .autonotebook import tqdm as notebook_tqdm\n"
     ]
    }
   ],
   "source": [
    "import pandas as pd \n",
    "import numpy as np\n",
    "from transformers import AutoTokenizer, AutoModelForSequenceClassification, pipeline\n"
   ]
  },
  {
   "cell_type": "code",
   "execution_count": 2,
   "metadata": {},
   "outputs": [],
   "source": [
    "def tokenize(headline):\n",
    "    tokenizer = AutoTokenizer.from_pretrained(\"ProsusAI/finbert\")\n",
    "    model=AutoModelForSequenceClassification.from_pretrained(\"ProsusAI/finbert\")\n",
    "    calssifier=pipeline('text-classification',model=model,tokenizer=tokenizer)\n",
    "    res=calssifier(headline)\n",
    "    return res[0]"
   ]
  },
  {
   "cell_type": "code",
   "execution_count": 3,
   "metadata": {},
   "outputs": [
    {
     "name": "stdout",
     "output_type": "stream",
     "text": [
      "  Exchange Symbol              Shortname               Longname  \\\n",
      "0      NMS   AAPL             Apple Inc.             Apple Inc.   \n",
      "1      NMS   NVDA     NVIDIA Corporation     NVIDIA Corporation   \n",
      "2      NMS   MSFT  Microsoft Corporation  Microsoft Corporation   \n",
      "3      NMS   GOOG          Alphabet Inc.          Alphabet Inc.   \n",
      "4      NMS  GOOGL          Alphabet Inc.          Alphabet Inc.   \n",
      "\n",
      "                   Sector                        Industry  Currentprice  \\\n",
      "0              Technology            Consumer Electronics        235.00   \n",
      "1              Technology                  Semiconductors        138.00   \n",
      "2              Technology       Software - Infrastructure        418.16   \n",
      "3  Communication Services  Internet Content & Information        165.05   \n",
      "4  Communication Services  Internet Content & Information        163.42   \n",
      "\n",
      "       Marketcap        Ebitda  Revenuegrowth           City State  \\\n",
      "0  3572963475456  1.317810e+11          0.049      Cupertino    CA   \n",
      "1  3385139920896  6.118400e+10          1.224    Santa Clara    CA   \n",
      "2  3108199989248  1.294330e+11          0.152        Redmond    WA   \n",
      "3  2020806230016  1.154780e+11          0.136  Mountain View    CA   \n",
      "4  2020802691072  1.154780e+11          0.136  Mountain View    CA   \n",
      "\n",
      "         Country  Fulltimeemployees  \\\n",
      "0  United States           161000.0   \n",
      "1  United States            29600.0   \n",
      "2  United States           228000.0   \n",
      "3  United States           179582.0   \n",
      "4  United States           179582.0   \n",
      "\n",
      "                                 Longbusinesssummary    Weight  \n",
      "0  Apple Inc. designs, manufactures, and markets ...  0.065439  \n",
      "1  NVIDIA Corporation provides graphics and compu...  0.061999  \n",
      "2  Microsoft Corporation develops and supports so...  0.056927  \n",
      "3  Alphabet Inc. offers various products and plat...  0.037011  \n",
      "4  Alphabet Inc. offers various products and plat...  0.037011  \n"
     ]
    }
   ],
   "source": [
    "file_path = r'sp500_companies.csv'\n",
    "data1 = pd.read_csv(file_path)\n",
    "print(data1.head())\n",
    "symbols_array = data1['Symbol'].tolist()"
   ]
  },
  {
   "cell_type": "code",
   "execution_count": 4,
   "metadata": {},
   "outputs": [],
   "source": [
    "from transformers import BertTokenizer, BertForSequenceClassification\n",
    "import torch\n",
    "from torch.nn.functional import softmax\n"
   ]
  },
  {
   "cell_type": "code",
   "execution_count": null,
   "metadata": {},
   "outputs": [],
   "source": []
  },
  {
   "cell_type": "code",
   "execution_count": 5,
   "metadata": {},
   "outputs": [],
   "source": [
    "model_name = \"ProsusAI/finbert\"\n",
    "tokenizer = BertTokenizer.from_pretrained(model_name)\n",
    "model = BertForSequenceClassification.from_pretrained(model_name)\n",
    "def get_sentiment(text):\n",
    "    inputs = tokenizer(text, padding=True, truncation=True, max_length=512, return_tensors=\"pt\")\n",
    "    with torch.no_grad():\n",
    "        outputs = model(**inputs)\n",
    "    \n",
    "    logits = outputs.logits\n",
    "    probabilities = softmax(logits, dim=1).tolist()[0]\n",
    "    \n",
    "    # FinBERT has three sentiment classes: positive, neutral, and negative\n",
    "    labels = [\"negative\", \"neutral\", \"positive\"]\n",
    "    sentiment_class = labels[probabilities.index(max(probabilities))]\n",
    "    sentiment_score = max(probabilities)  # Confidence score\n",
    "    \n",
    "    return sentiment_class, sentiment_score"
   ]
  },
  {
   "cell_type": "code",
   "execution_count": 11,
   "metadata": {},
   "outputs": [],
   "source": [
    "\n",
    "def generate_sentiment():\n",
    "    for symbol in symbols_array:\n",
    "        filename = f'news_data/{symbol}.csv'\n",
    "        df = pd.read_csv(filename)\n",
    "        if df.empty:\n",
    "            continue\n",
    "\n",
    "        new_df = pd.DataFrame(columns=['datetime', 'title', 'source', 'link', 'sentiment_class', 'sentiment_score'])\n",
    "        rows = []\n",
    "        for index, row in df.iterrows():\n",
    "            headline = row['title']\n",
    "            sentiment_class, sentiment_score = get_sentiment(headline)\n",
    "\n",
    "            rows.append({\n",
    "                'datetime': row['datetime'],\n",
    "                'title': row['title'],\n",
    "                'source': row['source'],\n",
    "                'link': row['link'],\n",
    "                'sentiment_class': sentiment_class,\n",
    "                'sentiment_score': sentiment_score\n",
    "            })\n",
    "\n",
    "        new_df = pd.concat([new_df, pd.DataFrame(rows)], ignore_index=True)\n",
    "\n",
    "        new_df.to_csv(f'sentiment_data/{symbol}.csv')\n"
   ]
  },
  {
   "cell_type": "code",
   "execution_count": null,
   "metadata": {},
   "outputs": [
    {
     "name": "stderr",
     "output_type": "stream",
     "text": [
      "C:\\Users\\ahmed\\AppData\\Local\\Temp\\ipykernel_3808\\786632027.py:23: FutureWarning: The behavior of DataFrame concatenation with empty or all-NA entries is deprecated. In a future version, this will no longer exclude empty or all-NA columns when determining the result dtypes. To retain the old behavior, exclude the relevant entries before the concat operation.\n",
      "  new_df = pd.concat([new_df, pd.DataFrame(rows)], ignore_index=True)\n",
      "C:\\Users\\ahmed\\AppData\\Local\\Temp\\ipykernel_3808\\786632027.py:23: FutureWarning: The behavior of DataFrame concatenation with empty or all-NA entries is deprecated. In a future version, this will no longer exclude empty or all-NA columns when determining the result dtypes. To retain the old behavior, exclude the relevant entries before the concat operation.\n",
      "  new_df = pd.concat([new_df, pd.DataFrame(rows)], ignore_index=True)\n",
      "C:\\Users\\ahmed\\AppData\\Local\\Temp\\ipykernel_3808\\786632027.py:23: FutureWarning: The behavior of DataFrame concatenation with empty or all-NA entries is deprecated. In a future version, this will no longer exclude empty or all-NA columns when determining the result dtypes. To retain the old behavior, exclude the relevant entries before the concat operation.\n",
      "  new_df = pd.concat([new_df, pd.DataFrame(rows)], ignore_index=True)\n"
     ]
    }
   ],
   "source": [
    "generate_sentiment()"
   ]
  }
 ],
 "metadata": {
  "kernelspec": {
   "display_name": "Python 3",
   "language": "python",
   "name": "python3"
  },
  "language_info": {
   "codemirror_mode": {
    "name": "ipython",
    "version": 3
   },
   "file_extension": ".py",
   "mimetype": "text/x-python",
   "name": "python",
   "nbconvert_exporter": "python",
   "pygments_lexer": "ipython3",
   "version": "3.11.6"
  }
 },
 "nbformat": 4,
 "nbformat_minor": 2
}
