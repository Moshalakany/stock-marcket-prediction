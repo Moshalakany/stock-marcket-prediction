{
 "cells": [
  {
   "cell_type": "code",
   "execution_count": null,
   "metadata": {},
   "outputs": [],
   "source": [
    "import requests\n",
    "data=[]\n",
    "for i in range(100):\n",
    "\n",
    "  url = \"https://coincodex.com/api/v1/assets/get_news/\"\n",
    "  params = {\n",
    "      'symbol': 'BTC',\n",
    "      'limit': 10,\n",
    "      'page': 1,\n",
    "      'country': 'EG'\n",
    "  }\n",
    "  headers = {\n",
    "      'User-Agent': 'Mozilla/5.0'\n",
    "  }\n",
    "\n",
    "  response = requests.get(url, params=params, headers=headers)\n",
    "  data.append(response.json())\n",
    "\n",
    "news_list = data  # JSON array\n",
    "\n",
    "for data in news_list:\n",
    "  for news in data:\n",
    "      title = news.get('title')\n",
    "      article_url = news.get('url')\n",
    "      date = news.get('date')\n",
    "      sentiment = news.get('sentiment')\n",
    "      print(f\"{date} | Sentiment: {sentiment} | {title} → {article_url}\")\n"
   ]
  }
 ],
 "metadata": {
  "kernelspec": {
   "display_name": "Python 3",
   "language": "python",
   "name": "python3"
  },
  "language_info": {
   "name": "python",
   "version": "3.11.6"
  }
 },
 "nbformat": 4,
 "nbformat_minor": 2
}
