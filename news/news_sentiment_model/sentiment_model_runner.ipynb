{
 "cells": [
  {
   "cell_type": "code",
   "execution_count": 1,
   "metadata": {},
   "outputs": [],
   "source": [
    "import os\n",
    "import argparse\n",
    "import logging\n",
    "from enhanced_sentiment_model import EnhancedStockSentimentAnalyzer\n"
   ]
  },
  {
   "cell_type": "code",
   "execution_count": 2,
   "metadata": {},
   "outputs": [],
   "source": [
    "logging.basicConfig(\n",
    "    level=logging.INFO,\n",
    "    format='%(asctime)s - %(levelname)s - %(message)s',\n",
    "    handlers=[\n",
    "        logging.StreamHandler(),\n",
    "        logging.FileHandler('sentiment_model.log')\n",
    "    ]\n",
    ")\n",
    "logger = logging.getLogger(__name__)\n"
   ]
  },
  {
   "cell_type": "code",
   "execution_count": 4,
   "metadata": {},
   "outputs": [
    {
     "name": "stderr",
     "output_type": "stream",
     "text": [
      "usage: ipykernel_launcher.py [-h] [--data_dir DATA_DIR]\n",
      "                             [--output_dir OUTPUT_DIR]\n",
      "                             [--architecture {lstm,cnn,hybrid}]\n",
      "                             [--epochs EPOCHS] [--skip_training]\n",
      "                             [--predict [PREDICT ...]]\n",
      "ipykernel_launcher.py: error: unrecognized arguments: --f=c:\\Users\\ahmed\\AppData\\Roaming\\jupyter\\runtime\\kernel-v3276a4f1a1ab87930e26a20c02cd857d60ae44617.json\n"
     ]
    },
    {
     "ename": "SystemExit",
     "evalue": "2",
     "output_type": "error",
     "traceback": [
      "An exception has occurred, use %tb to see the full traceback.\n",
      "\u001b[1;31mSystemExit\u001b[0m\u001b[1;31m:\u001b[0m 2\n"
     ]
    }
   ],
   "source": [
    "def main():\n",
    "    parser = argparse.ArgumentParser(description='Train and evaluate enhanced stock news sentiment model')\n",
    "    \n",
    "    parser.add_argument('--data_dir', type=str, default=r'E:\\Stock Market GP\\Reddit\\news\\sentiment_data',\n",
    "                        help='Directory containing sentiment data CSV files')\n",
    "    \n",
    "    parser.add_argument('--output_dir', type=str, default=r'E:\\Stock Market GP\\Reddit\\news\\sentiment_model_output',\n",
    "                        help='Directory to save models and outputs')\n",
    "    \n",
    "    parser.add_argument('--architecture', type=str, choices=['lstm', 'cnn', 'hybrid'], default='hybrid',\n",
    "                        help='Model architecture for enhanced model')\n",
    "    \n",
    "    parser.add_argument('--epochs', type=int, default=15,\n",
    "                        help='Number of training epochs')\n",
    "    \n",
    "    parser.add_argument('--skip_training', action='store_true',\n",
    "                        help='Skip model training and use saved model for predictions')\n",
    "    \n",
    "    parser.add_argument('--predict', type=str, nargs='*',\n",
    "                        help='Predict sentiment for given text')\n",
    "    \n",
    "    args = parser.parse_args()\n",
    "    \n",
    "    # Create output directory if doesn't exist\n",
    "    if not os.path.exists(args.output_dir):\n",
    "        os.makedirs(args.output_dir)\n",
    "    \n",
    "    # Set up model directory for the enhanced model\n",
    "    model_dir = os.path.join(args.output_dir, f'enhanced_{args.architecture}_model')\n",
    "    if not os.path.exists(model_dir):\n",
    "        os.makedirs(model_dir)\n",
    "        \n",
    "    # Create the enhanced analyzer\n",
    "    analyzer = EnhancedStockSentimentAnalyzer(args.data_dir, model_dir)\n",
    "    \n",
    "    # If prediction mode\n",
    "    if args.predict:\n",
    "        for text in args.predict:\n",
    "            prediction = analyzer.predict_sentiment(text, return_scores=True)\n",
    "            print(f\"\\nText: {text}\")\n",
    "            print(f\"Sentiment: {prediction['sentiment']}\")\n",
    "            \n",
    "            if 'confidence' in prediction:\n",
    "                print(f\"Confidence: {prediction['confidence']:.4f}\")\n",
    "            if 'scores' in prediction:\n",
    "                for sentiment, score in prediction['scores'].items():\n",
    "                    print(f\"  {sentiment}: {score:.4f}\")\n",
    "    else:\n",
    "        # Train or eval mode\n",
    "        analyzer.run_pipeline(model_type=args.architecture, train_model=not args.skip_training, epochs=args.epochs)\n",
    "\n",
    "if __name__ == \"__main__\":\n",
    "    main()\n"
   ]
  }
 ],
 "metadata": {
  "kernelspec": {
   "display_name": "Python 3",
   "language": "python",
   "name": "python3"
  },
  "language_info": {
   "codemirror_mode": {
    "name": "ipython",
    "version": 3
   },
   "file_extension": ".py",
   "mimetype": "text/x-python",
   "name": "python",
   "nbconvert_exporter": "python",
   "pygments_lexer": "ipython3",
   "version": "3.11.6"
  }
 },
 "nbformat": 4,
 "nbformat_minor": 2
}
